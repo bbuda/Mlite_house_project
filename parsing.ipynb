{
 "cells": [
  {
   "cell_type": "markdown",
   "id": "88e5f289",
   "metadata": {},
   "source": [
    "# Парсинг данных"
   ]
  },
  {
   "cell_type": "code",
   "execution_count": 11,
   "id": "1a78df49",
   "metadata": {},
   "outputs": [
    {
     "name": "stderr",
     "output_type": "stream",
     "text": [
      "\r",
      "  0%|                                                    | 0/54 [00:00<?, ?it/s]"
     ]
    },
    {
     "name": "stdout",
     "output_type": "stream",
     "text": [
      "28 / 10000 | page: 1\n"
     ]
    },
    {
     "name": "stderr",
     "output_type": "stream",
     "text": [
      "\r",
      "  2%|▊                                           | 1/54 [00:06<06:06,  6.91s/it]"
     ]
    },
    {
     "name": "stdout",
     "output_type": "stream",
     "text": [
      "56 / 10000 | page: 2\n"
     ]
    },
    {
     "name": "stderr",
     "output_type": "stream",
     "text": [
      "\r",
      "  4%|█▋                                          | 2/54 [00:13<05:44,  6.63s/it]"
     ]
    },
    {
     "name": "stdout",
     "output_type": "stream",
     "text": [
      "84 / 10000 | page: 3\n"
     ]
    },
    {
     "name": "stderr",
     "output_type": "stream",
     "text": [
      "\r",
      "  6%|██▍                                         | 3/54 [00:19<05:31,  6.50s/it]"
     ]
    },
    {
     "name": "stdout",
     "output_type": "stream",
     "text": [
      "112 / 10000 | page: 4\n"
     ]
    },
    {
     "name": "stderr",
     "output_type": "stream",
     "text": [
      "\r",
      "  7%|███▎                                        | 4/54 [00:25<05:19,  6.40s/it]"
     ]
    },
    {
     "name": "stdout",
     "output_type": "stream",
     "text": [
      "140 / 10000 | page: 5\n"
     ]
    },
    {
     "name": "stderr",
     "output_type": "stream",
     "text": [
      "\r",
      "  9%|████                                        | 5/54 [00:32<05:17,  6.47s/it]"
     ]
    },
    {
     "name": "stdout",
     "output_type": "stream",
     "text": [
      "168 / 10000 | page: 6\n"
     ]
    },
    {
     "name": "stderr",
     "output_type": "stream",
     "text": [
      "\r",
      " 11%|████▉                                       | 6/54 [00:38<05:06,  6.39s/it]"
     ]
    },
    {
     "name": "stdout",
     "output_type": "stream",
     "text": [
      "196 / 10000 | page: 7\n"
     ]
    },
    {
     "name": "stderr",
     "output_type": "stream",
     "text": [
      "\r",
      " 13%|█████▋                                      | 7/54 [00:45<04:58,  6.34s/it]"
     ]
    },
    {
     "name": "stdout",
     "output_type": "stream",
     "text": [
      "223 / 10000 | page: 8\n"
     ]
    },
    {
     "name": "stderr",
     "output_type": "stream",
     "text": [
      "\r",
      " 15%|██████▌                                     | 8/54 [00:53<05:19,  6.95s/it]"
     ]
    },
    {
     "name": "stdout",
     "output_type": "stream",
     "text": [
      "251 / 10000 | page: 9\n"
     ]
    },
    {
     "name": "stderr",
     "output_type": "stream",
     "text": [
      "\r",
      " 17%|███████▎                                    | 9/54 [01:00<05:11,  6.93s/it]"
     ]
    },
    {
     "name": "stdout",
     "output_type": "stream",
     "text": [
      "279 / 10000 | page: 10\n"
     ]
    },
    {
     "name": "stderr",
     "output_type": "stream",
     "text": [
      "\r",
      " 19%|███████▉                                   | 10/54 [01:06<05:02,  6.87s/it]"
     ]
    },
    {
     "name": "stdout",
     "output_type": "stream",
     "text": [
      "307 / 10000 | page: 11\n"
     ]
    },
    {
     "name": "stderr",
     "output_type": "stream",
     "text": [
      "\r",
      " 20%|████████▊                                  | 11/54 [01:13<04:56,  6.88s/it]"
     ]
    },
    {
     "name": "stdout",
     "output_type": "stream",
     "text": [
      "335 / 10000 | page: 12\n"
     ]
    },
    {
     "name": "stderr",
     "output_type": "stream",
     "text": [
      "\r",
      " 22%|█████████▌                                 | 12/54 [01:20<04:43,  6.75s/it]"
     ]
    },
    {
     "name": "stdout",
     "output_type": "stream",
     "text": [
      "363 / 10000 | page: 13\n"
     ]
    },
    {
     "name": "stderr",
     "output_type": "stream",
     "text": [
      "\r",
      " 24%|██████████▎                                | 13/54 [01:27<04:45,  6.95s/it]"
     ]
    },
    {
     "name": "stdout",
     "output_type": "stream",
     "text": [
      "391 / 10000 | page: 14\n"
     ]
    },
    {
     "name": "stderr",
     "output_type": "stream",
     "text": [
      "\r",
      " 26%|███████████▏                               | 14/54 [01:34<04:33,  6.84s/it]"
     ]
    },
    {
     "name": "stdout",
     "output_type": "stream",
     "text": [
      "416 / 10000 | page: 15\n"
     ]
    },
    {
     "name": "stderr",
     "output_type": "stream",
     "text": [
      "\r",
      " 28%|███████████▉                               | 15/54 [01:40<04:25,  6.81s/it]"
     ]
    },
    {
     "name": "stdout",
     "output_type": "stream",
     "text": [
      "441 / 10000 | page: 16\n"
     ]
    },
    {
     "name": "stderr",
     "output_type": "stream",
     "text": [
      "\r",
      " 30%|████████████▋                              | 16/54 [01:46<04:07,  6.51s/it]"
     ]
    },
    {
     "name": "stdout",
     "output_type": "stream",
     "text": [
      "462 / 10000 | page: 17\n"
     ]
    },
    {
     "name": "stderr",
     "output_type": "stream",
     "text": [
      "\r",
      " 31%|█████████████▌                             | 17/54 [01:52<03:53,  6.32s/it]"
     ]
    },
    {
     "name": "stdout",
     "output_type": "stream",
     "text": [
      "489 / 10000 | page: 18\n"
     ]
    },
    {
     "name": "stderr",
     "output_type": "stream",
     "text": [
      "\r",
      " 33%|██████████████▎                            | 18/54 [01:58<03:42,  6.19s/it]"
     ]
    },
    {
     "name": "stdout",
     "output_type": "stream",
     "text": [
      "517 / 10000 | page: 19\n"
     ]
    },
    {
     "name": "stderr",
     "output_type": "stream",
     "text": [
      "\r",
      " 35%|███████████████▏                           | 19/54 [02:04<03:36,  6.19s/it]"
     ]
    },
    {
     "name": "stdout",
     "output_type": "stream",
     "text": [
      "542 / 10000 | page: 20\n"
     ]
    },
    {
     "name": "stderr",
     "output_type": "stream",
     "text": [
      "\r",
      " 37%|███████████████▉                           | 20/54 [02:10<03:29,  6.15s/it]"
     ]
    },
    {
     "name": "stdout",
     "output_type": "stream",
     "text": [
      "569 / 10000 | page: 21\n"
     ]
    },
    {
     "name": "stderr",
     "output_type": "stream",
     "text": [
      "\r",
      " 39%|████████████████▋                          | 21/54 [02:16<03:19,  6.03s/it]"
     ]
    },
    {
     "name": "stdout",
     "output_type": "stream",
     "text": [
      "595 / 10000 | page: 22\n"
     ]
    },
    {
     "name": "stderr",
     "output_type": "stream",
     "text": [
      "\r",
      " 41%|█████████████████▌                         | 22/54 [02:22<03:13,  6.03s/it]"
     ]
    },
    {
     "name": "stdout",
     "output_type": "stream",
     "text": [
      "618 / 10000 | page: 23\n"
     ]
    },
    {
     "name": "stderr",
     "output_type": "stream",
     "text": [
      "\r",
      " 43%|██████████████████▎                        | 23/54 [02:28<03:05,  5.98s/it]"
     ]
    },
    {
     "name": "stdout",
     "output_type": "stream",
     "text": [
      "643 / 10000 | page: 24\n"
     ]
    },
    {
     "name": "stderr",
     "output_type": "stream",
     "text": [
      "\r",
      " 44%|███████████████████                        | 24/54 [02:34<02:57,  5.93s/it]"
     ]
    },
    {
     "name": "stdout",
     "output_type": "stream",
     "text": [
      "670 / 10000 | page: 25\n"
     ]
    },
    {
     "name": "stderr",
     "output_type": "stream",
     "text": [
      "\r",
      " 46%|███████████████████▉                       | 25/54 [02:40<02:51,  5.92s/it]"
     ]
    },
    {
     "name": "stdout",
     "output_type": "stream",
     "text": [
      "697 / 10000 | page: 26\n"
     ]
    },
    {
     "name": "stderr",
     "output_type": "stream",
     "text": [
      "\r",
      " 48%|████████████████████▋                      | 26/54 [02:46<02:47,  5.99s/it]"
     ]
    },
    {
     "name": "stdout",
     "output_type": "stream",
     "text": [
      "724 / 10000 | page: 27\n"
     ]
    },
    {
     "name": "stderr",
     "output_type": "stream",
     "text": [
      "\r",
      " 50%|█████████████████████▌                     | 27/54 [02:52<02:42,  6.01s/it]"
     ]
    },
    {
     "name": "stdout",
     "output_type": "stream",
     "text": [
      "750 / 10000 | page: 28\n"
     ]
    },
    {
     "name": "stderr",
     "output_type": "stream",
     "text": [
      "\r",
      " 52%|██████████████████████▎                    | 28/54 [02:58<02:34,  5.95s/it]"
     ]
    },
    {
     "name": "stdout",
     "output_type": "stream",
     "text": [
      "776 / 10000 | page: 29\n"
     ]
    },
    {
     "name": "stderr",
     "output_type": "stream",
     "text": [
      "\r",
      " 54%|███████████████████████                    | 29/54 [03:04<02:29,  5.98s/it]"
     ]
    },
    {
     "name": "stdout",
     "output_type": "stream",
     "text": [
      "801 / 10000 | page: 30\n"
     ]
    },
    {
     "name": "stderr",
     "output_type": "stream",
     "text": [
      "\r",
      " 56%|███████████████████████▉                   | 30/54 [03:10<02:23,  5.96s/it]"
     ]
    },
    {
     "name": "stdout",
     "output_type": "stream",
     "text": [
      "828 / 10000 | page: 31\n"
     ]
    },
    {
     "name": "stderr",
     "output_type": "stream",
     "text": [
      "\r",
      " 57%|████████████████████████▋                  | 31/54 [03:15<02:16,  5.92s/it]"
     ]
    },
    {
     "name": "stdout",
     "output_type": "stream",
     "text": [
      "853 / 10000 | page: 32\n"
     ]
    },
    {
     "name": "stderr",
     "output_type": "stream",
     "text": [
      "\r",
      " 59%|█████████████████████████▍                 | 32/54 [03:21<02:09,  5.89s/it]"
     ]
    },
    {
     "name": "stdout",
     "output_type": "stream",
     "text": [
      "876 / 10000 | page: 33\n"
     ]
    },
    {
     "name": "stderr",
     "output_type": "stream",
     "text": [
      "\r",
      " 61%|██████████████████████████▎                | 33/54 [03:27<02:02,  5.84s/it]"
     ]
    },
    {
     "name": "stdout",
     "output_type": "stream",
     "text": [
      "902 / 10000 | page: 34\n"
     ]
    },
    {
     "name": "stderr",
     "output_type": "stream",
     "text": [
      "\r",
      " 63%|███████████████████████████                | 34/54 [03:33<01:56,  5.80s/it]"
     ]
    },
    {
     "name": "stdout",
     "output_type": "stream",
     "text": [
      "924 / 10000 | page: 35\n"
     ]
    },
    {
     "name": "stderr",
     "output_type": "stream",
     "text": [
      "\r",
      " 65%|███████████████████████████▊               | 35/54 [03:39<01:51,  5.87s/it]"
     ]
    },
    {
     "name": "stdout",
     "output_type": "stream",
     "text": [
      "942 / 10000 | page: 36\n"
     ]
    },
    {
     "name": "stderr",
     "output_type": "stream",
     "text": [
      "\r",
      " 67%|████████████████████████████▋              | 36/54 [03:45<01:48,  6.03s/it]"
     ]
    },
    {
     "name": "stdout",
     "output_type": "stream",
     "text": [
      "944 / 10000 | page: 37\n"
     ]
    },
    {
     "name": "stderr",
     "output_type": "stream",
     "text": [
      "\r",
      " 69%|█████████████████████████████▍             | 37/54 [03:51<01:40,  5.93s/it]"
     ]
    },
    {
     "name": "stdout",
     "output_type": "stream",
     "text": [
      "952 / 10000 | page: 38\n"
     ]
    },
    {
     "name": "stderr",
     "output_type": "stream",
     "text": [
      "\r",
      " 70%|██████████████████████████████▎            | 38/54 [03:57<01:34,  5.92s/it]"
     ]
    },
    {
     "name": "stdout",
     "output_type": "stream",
     "text": [
      "978 / 10000 | page: 39\n"
     ]
    },
    {
     "name": "stderr",
     "output_type": "stream",
     "text": [
      "\r",
      " 72%|███████████████████████████████            | 39/54 [04:02<01:27,  5.86s/it]"
     ]
    },
    {
     "name": "stdout",
     "output_type": "stream",
     "text": [
      "1006 / 10000 | page: 40\n"
     ]
    },
    {
     "name": "stderr",
     "output_type": "stream",
     "text": [
      "\r",
      " 74%|███████████████████████████████▊           | 40/54 [04:09<01:22,  5.92s/it]"
     ]
    },
    {
     "name": "stdout",
     "output_type": "stream",
     "text": [
      "1034 / 10000 | page: 41\n"
     ]
    },
    {
     "name": "stderr",
     "output_type": "stream",
     "text": [
      "\r",
      " 76%|████████████████████████████████▋          | 41/54 [04:15<01:17,  5.97s/it]"
     ]
    },
    {
     "name": "stdout",
     "output_type": "stream",
     "text": [
      "1062 / 10000 | page: 42\n"
     ]
    },
    {
     "name": "stderr",
     "output_type": "stream",
     "text": [
      "\r",
      " 78%|█████████████████████████████████▍         | 42/54 [04:20<01:11,  5.92s/it]"
     ]
    },
    {
     "name": "stdout",
     "output_type": "stream",
     "text": [
      "1090 / 10000 | page: 43\n"
     ]
    },
    {
     "name": "stderr",
     "output_type": "stream",
     "text": [
      "\r",
      " 80%|██████████████████████████████████▏        | 43/54 [04:27<01:06,  6.04s/it]"
     ]
    },
    {
     "name": "stdout",
     "output_type": "stream",
     "text": [
      "1118 / 10000 | page: 44\n"
     ]
    },
    {
     "name": "stderr",
     "output_type": "stream",
     "text": [
      "\r",
      " 81%|███████████████████████████████████        | 44/54 [04:32<00:59,  5.94s/it]"
     ]
    },
    {
     "name": "stdout",
     "output_type": "stream",
     "text": [
      "1146 / 10000 | page: 45\n"
     ]
    },
    {
     "name": "stderr",
     "output_type": "stream",
     "text": [
      "\r",
      " 83%|███████████████████████████████████▊       | 45/54 [04:38<00:52,  5.83s/it]"
     ]
    },
    {
     "name": "stdout",
     "output_type": "stream",
     "text": [
      "1174 / 10000 | page: 46\n"
     ]
    },
    {
     "name": "stderr",
     "output_type": "stream",
     "text": [
      "\r",
      " 85%|████████████████████████████████████▋      | 46/54 [04:44<00:46,  5.83s/it]"
     ]
    },
    {
     "name": "stdout",
     "output_type": "stream",
     "text": [
      "1202 / 10000 | page: 47\n"
     ]
    },
    {
     "name": "stderr",
     "output_type": "stream",
     "text": [
      "\r",
      " 87%|█████████████████████████████████████▍     | 47/54 [04:50<00:40,  5.79s/it]"
     ]
    },
    {
     "name": "stdout",
     "output_type": "stream",
     "text": [
      "1230 / 10000 | page: 48\n"
     ]
    },
    {
     "name": "stderr",
     "output_type": "stream",
     "text": [
      "\r",
      " 89%|██████████████████████████████████████▏    | 48/54 [04:56<00:35,  5.85s/it]"
     ]
    },
    {
     "name": "stdout",
     "output_type": "stream",
     "text": [
      "1258 / 10000 | page: 49\n"
     ]
    },
    {
     "name": "stderr",
     "output_type": "stream",
     "text": [
      "\r",
      " 91%|███████████████████████████████████████    | 49/54 [05:02<00:29,  5.89s/it]"
     ]
    },
    {
     "name": "stdout",
     "output_type": "stream",
     "text": [
      "1286 / 10000 | page: 50\n"
     ]
    },
    {
     "name": "stderr",
     "output_type": "stream",
     "text": [
      "\r",
      " 93%|███████████████████████████████████████▊   | 50/54 [05:07<00:23,  5.85s/it]"
     ]
    },
    {
     "name": "stdout",
     "output_type": "stream",
     "text": [
      "1314 / 10000 | page: 51\n"
     ]
    },
    {
     "name": "stderr",
     "output_type": "stream",
     "text": [
      "\r",
      " 94%|████████████████████████████████████████▌  | 51/54 [05:13<00:17,  5.82s/it]"
     ]
    },
    {
     "name": "stdout",
     "output_type": "stream",
     "text": [
      "1342 / 10000 | page: 52\n"
     ]
    },
    {
     "name": "stderr",
     "output_type": "stream",
     "text": [
      "\r",
      " 96%|█████████████████████████████████████████▍ | 52/54 [05:19<00:11,  5.78s/it]"
     ]
    },
    {
     "name": "stdout",
     "output_type": "stream",
     "text": [
      "1370 / 10000 | page: 53\n"
     ]
    },
    {
     "name": "stderr",
     "output_type": "stream",
     "text": [
      "\r",
      " 98%|██████████████████████████████████████████▏| 53/54 [05:24<00:05,  5.77s/it]"
     ]
    },
    {
     "name": "stdout",
     "output_type": "stream",
     "text": [
      "1386 / 10000 | page: 54\n"
     ]
    },
    {
     "name": "stderr",
     "output_type": "stream",
     "text": [
      "100%|███████████████████████████████████████████| 54/54 [05:31<00:00,  6.14s/it]"
     ]
    },
    {
     "name": "stdout",
     "output_type": "stream",
     "text": [
      "The dataset is written in file \"data_test.csv\"\n"
     ]
    },
    {
     "name": "stderr",
     "output_type": "stream",
     "text": [
      "\n"
     ]
    }
   ],
   "source": [
    "import os\n",
    "import csv\n",
    "import json\n",
    "import requests\n",
    "import cfscrape\n",
    "import traceback\n",
    "from tqdm import tqdm\n",
    "from time import sleep\n",
    "\n",
    "\n",
    "PAUSE_TIME = 5 # Увеличиваем интервалы отправки запросов — борьба с капчей\n",
    "CSV_NUMBER = 'test' # Постфикс названия создаваемой таблицы\n",
    "CSV_PATH = os.path.normpath(os.path.join(os.getcwd(), 'csv')) # Создаём папку 'csv' для записи создаваемых таблиц\n",
    "if not os.path.exists(CSV_PATH): # ...если такой не существовало ранее\n",
    "    os.mkdir(CSV_PATH)\n",
    "    print(f'Folder {CSV_PATH} has been created!')\n",
    "\n",
    "\n",
    "# Словарь некоторых городов с номерами, объявления по которым можно искать на Циан\n",
    "regions = {\n",
    "    'msk': 1, # Москва\n",
    "    'spb': 2, # Санкт–Петербург\n",
    "    'ekb': 4743, # Екатеринбург\n",
    "    'nsk': 4897, # Новосибирск\n",
    "    'kzn': 4777, # Казань\n",
    "    'nng': 4885, # Нижний Новгород\n",
    "}\n",
    "\n",
    "# Названия столбцов (header) будущей таблицы,\n",
    "# которые связываются с отобранными признаками в create_table()\n",
    "dataset = [\n",
    "            [ \n",
    "                'region',\n",
    "                'address',\n",
    "                'price',\n",
    "                'total_area',\n",
    "                'kitchen_area', \n",
    "                'living_area',\n",
    "                'rooms_count',\n",
    "                'floor', \n",
    "                'floors_number',\n",
    "                'build_date',\n",
    "                'is_complete',\n",
    "                'completion_year',\n",
    "                'house_material',\n",
    "                'parking',\n",
    "                'decoration',\n",
    "                'balcony',\n",
    "                'longitude', \n",
    "                'latitude',\n",
    "                'passenger_elevator', \n",
    "                'cargo_elevator', \n",
    "                'metro', \n",
    "                'metro_distance', \n",
    "                'metro_transport',\n",
    "                'district',\n",
    "                'is_apartments',\n",
    "                'is_auction'\n",
    "            ]\n",
    "        ]\n",
    "\n",
    "\n",
    "# Функция для обработки пропусков и булевых значений\n",
    "def add_attr(attr):\n",
    "    if isinstance(attr, bool):\n",
    "        return int(attr)\n",
    "        \n",
    "    return attr if attr is not None else 'empty'\n",
    "\n",
    "\n",
    "# Функция для создания экземпляра класса запросов\n",
    "def get_session():\n",
    "    # Передаваемые параметры для экземпляра (как получить — туториал ниже)\n",
    "\n",
    "    headers = {\n",
    "        'authority': 'www.cian.ru',\n",
    "        'accept': 'text/html,application/xhtml+xml,application/xml;q=0.9,image/avif,image/webp,image/apng,*/*;q=0.8,application/signed-exchange;v=b3;q=0.7',\n",
    "        'accept-language': 'en-GB,en-US;q=0.9,en;q=0.8',\n",
    "        # 'cookie': '_CIAN_GK=ba9cbcd7-318e-466f-acc9-76edbde6f3e8; _gcl_au=1.1.547104461.1710680659; tmr_lvid=57770ba711bf55b7a32e568f304f9f9f; tmr_lvidTS=1710680659331; login_mro_popup=1; sopr_utm=%7B%22utm_source%22%3A+%22direct%22%2C+%22utm_medium%22%3A+%22None%22%7D; uxfb_usertype=searcher; sopr_session=4690d323f46b4532; _gid=GA1.2.1804219744.1710680661; _ym_uid=1710680662970774452; _ym_d=1710680662; uxs_uid=df351200-e45e-11ee-85dd-e90cfbd1a20d; afUserId=f76d2a6f-9a78-48ed-8085-df3d3715ca3d-p; AF_SYNC=1710680661868; _ym_isad=2; _ym_visorc=b; adrdel=1; adrcid=AT0UT0wEPNDp1rk7PPeLAzg; session_region_id=1; session_main_town_region_id=1; __cf_bm=BbPuZP1Voe0Xuq68MmgPcpmXtot4vjcdiWJ1urjxOfw-1710681351-1.0.1.1-iLJsaBY6woS.xbe4OQIJPoqgWhSmKSUl1JipA4iphNKsAWiXU.WTC0SqaeNxX_1Lxz9uQGoa8WKXCzkHS53_2Q; _ga_3369S417EL=GS1.1.1710680661.1.1.1710681355.60.0.0; _ga=GA1.2.1802668360.1710680661; _dc_gtm_UA-30374201-1=1; tmr_detect=0%7C1710681357609',\n",
    "        'referer': 'https://www.cian.ru/',\n",
    "        'sec-ch-ua': '\"Not(A:Brand\";v=\"24\", \"Chromium\";v=\"122\"',\n",
    "        'sec-ch-ua-mobile': '?0',\n",
    "        'sec-ch-ua-platform': '\"macOS\"',\n",
    "        'sec-fetch-dest': 'document',\n",
    "        'sec-fetch-mode': 'navigate',\n",
    "        'sec-fetch-site': 'same-origin',\n",
    "        'sec-fetch-user': '?1',\n",
    "        'upgrade-insecure-requests': '1',\n",
    "        'user-agent': 'Mozilla/5.0 (Macintosh; Intel Mac OS X 10_15_7; Chromium GOST) AppleWebKit/537.36 (KHTML, like Gecko) Chrome/122.0.0.0 Safari/537.36',\n",
    "    }\n",
    "\n",
    "    session = requests.Session()\n",
    "    session.headers = headers\n",
    "    return cfscrape.create_scraper(sess=session) # cfscrape — обход защиты от ботов Cloudflare\n",
    "\n",
    "\n",
    "# Записываем всё в файл формата .csv\n",
    "def recording_table():\n",
    "    try:\n",
    "        with open(os.path.join(CSV_PATH, f'data_{CSV_NUMBER}.csv'), mode='w', newline='', encoding='utf-8') as file:\n",
    "                writer = csv.writer(file)\n",
    "                for row in dataset:\n",
    "                    writer.writerow(row)\n",
    "\n",
    "        print(f'The dataset is written in file \"data_{CSV_NUMBER}.csv\"')\n",
    "        return\n",
    "            \n",
    "    except Exception as error:\n",
    "        print('Recording error!\\n', traceback.format_exc())\n",
    "        sleep(PAUSE_TIME)\n",
    "        return\n",
    "    \n",
    "\n",
    "# Получаем формат json (питоновский dict) из нашего запроса Response        \n",
    "def get_json(session, region_name, cur_page):\n",
    "    # Параметры, которые отображаются в URL-запросе\n",
    "#     https://www.cian.ru/cat.php/?deal_type=sale&engine_version=2&offer_type=flat&region=1&\n",
    "#     room1=1&room2=1&room3=1&room4=1&room5=1&room6=1\n",
    "    json_data = {\n",
    "            'jsonQuery': {\n",
    "                '_type': 'flatsale',\n",
    "                'engine_version': {\n",
    "                    'type': 'term',\n",
    "                    'value': 2,\n",
    "                },\n",
    "                'region': {\n",
    "                    'type': 'terms',\n",
    "                    'value': [\n",
    "                        regions[region_name],\n",
    "                    ],\n",
    "                },\n",
    "                'room': {\n",
    "                    'type': 'terms',\n",
    "                    'value': [\n",
    "                        1,\n",
    "                        2,\n",
    "                        3,\n",
    "                        4,\n",
    "                        5,\n",
    "                        6,\n",
    "                    ],\n",
    "                },\n",
    "                'page': {\n",
    "                    'type': 'term',\n",
    "                    'value': cur_page,\n",
    "                },\n",
    "                # Можно задавать дополнительные атрибуты фильтрации объявлений\n",
    "                \n",
    "                # 'price': {\n",
    "                #     'type': 'range',\n",
    "                #     'value': {\n",
    "                #         'gte': min_price,\n",
    "                #         'lte': max_price,\n",
    "                #     },\n",
    "                # },\n",
    "            },\n",
    "        }\n",
    "    # Получаем запрос с заданными параметрами\n",
    "    # Возвращаемое значение — bytes\n",
    "    try:\n",
    "        response = session.post('https://api.cian.ru/search-offers/v2/search-offers-desktop/',\n",
    "                                json=json_data)\n",
    "\n",
    "    except:\n",
    "        return f'oops! Error {response.status_code}'\n",
    "\n",
    "    # Получаем формат .json\n",
    "    if (\n",
    "        response.status_code != 204 and \n",
    "        response.headers[\"content-type\"].strip().startswith(\"application/json\")\n",
    "    ):\n",
    "        try:\n",
    "            return response.json()\n",
    "        except ValueError:\n",
    "            return f'oops! ValueError!'\n",
    "\n",
    "\n",
    "def create_table(region_name='nng', start_page=1, end_page=55, number_of_samples=10_000):\n",
    "    # В Циан выдаются страницы в диапазоне [1, 54]\n",
    "    if start_page < 1:\n",
    "        start_page = 1\n",
    "    if end_page > 55:\n",
    "        end_page = 55\n",
    "    \n",
    "    session = get_session()\n",
    "\n",
    "    cnt_samples = 0\n",
    "    for cur_page in tqdm(range(start_page, end_page)): # tqdm — выводим прогресс выполнения цикла\n",
    "        if cnt_samples >= number_of_samples:\n",
    "            break\n",
    "            \n",
    "        data = get_json(session, region_name, cur_page)\n",
    "        if data is None:\n",
    "            print('oops! Captcha!')\n",
    "            return\n",
    "        if isinstance(data, str):\n",
    "            continue\n",
    "        \n",
    "        # Отбираем из большого словаря то, что нам нужно (можно и больше — смотри data)\n",
    "        for item in data['data']['offersSerialized']:\n",
    "            cur_item = [\n",
    "                    region_name,\n",
    "                    add_attr(item[\"geo\"][\"userInput\"]),\n",
    "                    add_attr(item['bargainTerms']['priceRur']),\n",
    "                    add_attr(item.get('totalArea')),\n",
    "                    add_attr(item.get('kitchenArea')),\n",
    "                    add_attr(item.get('livingArea')),\n",
    "                    add_attr(item.get('roomsCount')),\n",
    "                    add_attr(item.get('floorNumber')),\n",
    "                    add_attr(item['building'].get('floorsCount')),\n",
    "                    add_attr(item['building'].get('buildYear')),\n",
    "                    add_attr(item['building']['deadline']['isComplete'] if item['building'].get('deadline') is not None else None),\n",
    "                    add_attr(item['building']['deadline']['year'] if item['building'].get('deadline') is not None else None),\n",
    "                    add_attr(item['building'].get('materialType')),\n",
    "                    add_attr(item['building']['parking']['type'] if item['building'].get('parking') is not None else None),\n",
    "                    add_attr(item.get('decoration')),\n",
    "                    add_attr(item.get('balconiesCount')),\n",
    "                    add_attr(item['geo']['coordinates']['lng']),\n",
    "                    add_attr(item['geo']['coordinates']['lat']),\n",
    "                    add_attr(item['building'].get('passengerLiftsCount')),\n",
    "                    add_attr(item['building'].get('cargoLiftsCount')),\n",
    "                    add_attr(','.join([str(x['name']) for x in item['geo']['undergrounds']if x is not None])),\n",
    "                    add_attr(','.join([str(x['time']) for x in item['geo']['undergrounds'] if x is not None])),\n",
    "                    add_attr(','.join([str(x['transportType']) for x in item['geo']['undergrounds'] if x is not None])),\n",
    "                    add_attr(','.join([str(x['name']) for x in item['geo']['districts'] if x is not None])),\n",
    "                    add_attr(item.get('isApartments')), \n",
    "                    add_attr(item.get('isAuction'))\n",
    "                ]\n",
    "            \n",
    "            if cur_item not in dataset:\n",
    "                dataset.append(cur_item)\n",
    "                cnt_samples += 1\n",
    "            else:\n",
    "                continue\n",
    "\n",
    "            if cnt_samples >= number_of_samples:\n",
    "                break\n",
    "\n",
    "        print(f'{cnt_samples} / {number_of_samples} | page: {cur_page}')\n",
    "        sleep(PAUSE_TIME)\n",
    "                \n",
    "    recording_table()\n",
    "    return\n",
    "\n",
    "\n",
    "create_table()"
   ]
  }
 ],
 "metadata": {
  "kernelspec": {
   "display_name": "Python 3 (ipykernel)",
   "language": "python",
   "name": "python3"
  },
  "language_info": {
   "codemirror_mode": {
    "name": "ipython",
    "version": 3
   },
   "file_extension": ".py",
   "mimetype": "text/x-python",
   "name": "python",
   "nbconvert_exporter": "python",
   "pygments_lexer": "ipython3",
   "version": "3.11.5"
  }
 },
 "nbformat": 4,
 "nbformat_minor": 5
}
